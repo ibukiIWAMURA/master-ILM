{
 "cells": [
  {
   "cell_type": "code",
   "execution_count": 64,
   "id": "5e79abe3-b2c5-4f26-991c-08dd31a65173",
   "metadata": {
    "tags": []
   },
   "outputs": [],
   "source": [
    "rule_set = [\n",
    "    \"Q/_alice->ot\",\n",
    "    \"S/_help(_alice,_quolia)/0->atotw\",\n",
    "    \"L/_ibuki->bu\",\n",
    "    \"S/_append(_x,_ibuki)/0->buM/xif\",\n",
    "    \"R/_love->jk\",\n",
    "    \"S/_love(_x,_y)/0->jkJ/yT/x\",\n",
    "    \"K/_quolia->w\",\n",
    "    \"S/_p(_ibuki,_quolia)/0->wbuK/p\",\n",
    "    \"S/_follow(_ibuk,_quoli)/0->wbu\"\n",
    "]\n",
    "\n",
    "# ['S/_help(_x,_quolia)/0->atQ/xw', \n",
    "#  'Q/_alice->ot', \n",
    "#  'S/_append(_x,_y)/0->L/yM/xif', \n",
    "#  'L/_ibuki->bu', \n",
    "#  'S/_p(_x,_quolia)/0->wL/xK/p', \n",
    "#  'S/_p(_x,_y)/0->R/pJ/yT/x', \n",
    "#  'R/_love->jk', \n",
    "#  'S/_help(_alice,_y)/0->atotK/y', \n",
    "#  'K/_quolia->w', \n",
    "#  'S/_p(_ibuki,_y)/0->K/ybuK/p', \n",
    "#  'S/_follow(_ibuk,_quoli)/0->wbu']"
   ]
  },
  {
   "cell_type": "code",
   "execution_count": 84,
   "id": "f2741b23-9f8d-4510-9a54-361ff5044bdf",
   "metadata": {
    "tags": []
   },
   "outputs": [],
   "source": [
    "rule_set = [\n",
    "    \"Q/_alice->ot\",\n",
    "    \"S/_help(_alice,_quolia)/0->atotw\"]"
   ]
  },
  {
   "cell_type": "code",
   "execution_count": 85,
   "id": "5e700737-49ab-4549-b31d-5c5aa377c965",
   "metadata": {
    "tags": []
   },
   "outputs": [],
   "source": [
    "import re\n",
    "\n",
    "def split_word_rule_set_and_sentence_rule_set(rule_set):\n",
    "    only_word_rule_set = []\n",
    "    only_sentence_rule_set = []\n",
    "    \n",
    "    for a_rule in rule_set:\n",
    "        if \"S/_\" in a_rule:\n",
    "            only_sentence_rule_set.append(a_rule)\n",
    "        else:\n",
    "            only_word_rule_set.append(a_rule)\n",
    "        \n",
    "    return only_word_rule_set, only_sentence_rule_set"
   ]
  },
  {
   "cell_type": "code",
   "execution_count": 86,
   "id": "86d0307c-094a-458a-80c9-279f27eefc03",
   "metadata": {
    "tags": []
   },
   "outputs": [
    {
     "name": "stdout",
     "output_type": "stream",
     "text": [
      "['Q/_alice->ot']\n",
      "['S/_help(_alice,_quolia)/0->atotw']\n"
     ]
    }
   ],
   "source": [
    "only_word_rule_set, only_sentence_rule_set = split_word_rule_set_and_sentence_rule_set(rule_set)\n",
    "print(only_word_rule_set)\n",
    "print(only_sentence_rule_set)"
   ]
  },
  {
   "cell_type": "code",
   "execution_count": 87,
   "id": "078a4f2d-9d2d-4bca-9a9a-b78ec5585344",
   "metadata": {
    "tags": []
   },
   "outputs": [],
   "source": [
    "def pairing_index_a_word_rule_and_a_sentence_rule(only_word_rule_set, only_sentence_rule_set):\n",
    "    set_index_pair_a_word_rule_and_a_sentence_rule = []\n",
    "    \n",
    "    for word_rule_index, a_word_rule in enumerate(only_word_rule_set):\n",
    "        for sentence_rule_index, a_sentence_rule in enumerate(only_sentence_rule_set):\n",
    "            set_index_pair_a_word_rule_and_a_sentence_rule.append((word_rule_index, sentence_rule_index))\n",
    "    \n",
    "    return set_index_pair_a_word_rule_and_a_sentence_rule"
   ]
  },
  {
   "cell_type": "code",
   "execution_count": 88,
   "id": "8e6e00c8-17f1-4d6c-b83a-d1270d5fc988",
   "metadata": {
    "tags": []
   },
   "outputs": [
    {
     "name": "stdout",
     "output_type": "stream",
     "text": [
      "[(0, 0)]\n"
     ]
    }
   ],
   "source": [
    "set_index_pair_a_word_rule_and_a_sentence_rule = pairing_index_a_word_rule_and_a_sentence_rule(only_word_rule_set, only_sentence_rule_set)\n",
    "print(set_index_pair_a_word_rule_and_a_sentence_rule)"
   ]
  },
  {
   "cell_type": "code",
   "execution_count": 89,
   "id": "749d958a-5030-4e85-bd28-1adca96361e1",
   "metadata": {
    "tags": []
   },
   "outputs": [],
   "source": [
    "def split_word_rule_ability(a_word_rule):\n",
    "    # \"/\" と \" -> \"で文字列を分割\n",
    "    category_label, rest = a_word_rule.split('/')\n",
    "    sem, form_express = rest.split('->')\n",
    "    sem_express = sem.strip('_')\n",
    "    split_word_rule_list = [category_label, sem_express, form_express]\n",
    "    return split_word_rule_list\n",
    "\n",
    "def split_sentence_rule_ability(a_sentence_rule):\n",
    "    parts = a_sentence_rule.split('->')\n",
    "    sem_express = parts[0].strip()\n",
    "    form_express = parts[1].strip()\n",
    "    split_sem_express = [re.sub(r'^_', '', part) for part in re.findall(r'_[a-zA-Z0-9]+|\\(\\w+\\)|[A-ZΑ-Ω]+|[0-9]', sem_express)]\n",
    "    split_sentence_rule_list = [(split_sem_express[0], *split_sem_express[1:]), form_express]\n",
    "    return split_sentence_rule_list"
   ]
  },
  {
   "cell_type": "code",
   "execution_count": 90,
   "id": "1351a9e6-bbaa-416a-8ec2-a46fdc49df19",
   "metadata": {
    "tags": []
   },
   "outputs": [],
   "source": [
    "def set_pair_a_word_rule_and_a_sentence_rule_process(only_word_rule_set, only_sentence_rule_set, set_index_pair_a_word_rule_and_a_sentence_rule):\n",
    "    set_pair_a_word_rule_and_a_sentence_rule = []\n",
    "    for word_index, sentence_index in set_index_pair_a_word_rule_and_a_sentence_rule:\n",
    "        a_word_rule = only_word_rule_set[word_index]\n",
    "        a_sentence_rule = only_sentence_rule_set[sentence_index]\n",
    "        set_pair_a_word_rule_and_a_sentence_rule.append((a_word_rule, a_sentence_rule))\n",
    "    return set_pair_a_word_rule_and_a_sentence_rule"
   ]
  },
  {
   "cell_type": "code",
   "execution_count": 91,
   "id": "e96277d5-5588-4c41-b93d-c2acaf46a799",
   "metadata": {
    "tags": []
   },
   "outputs": [
    {
     "name": "stdout",
     "output_type": "stream",
     "text": [
      "[('Q/_alice->ot', 'S/_help(_alice,_quolia)/0->atotw')]\n"
     ]
    }
   ],
   "source": [
    "set_pair_a_word_rule_and_a_sentence_rule = set_pair_a_word_rule_and_a_sentence_rule_process(only_word_rule_set, only_sentence_rule_set, set_index_pair_a_word_rule_and_a_sentence_rule)\n",
    "print(set_pair_a_word_rule_and_a_sentence_rule)"
   ]
  },
  {
   "cell_type": "code",
   "execution_count": 92,
   "id": "5c89c284-0443-4c06-9d52-d9213cf64ac1",
   "metadata": {
    "tags": []
   },
   "outputs": [],
   "source": [
    "def split_set_pair_a_word_rule_and_a_sentence_rule_process(set_pair_a_word_rule_and_a_sentence_rule):\n",
    "    split_set_pair_a_word_rule_and_a_sentence_rule = []\n",
    "    for a_word_rule, a_sentence_rule in set_pair_a_word_rule_and_a_sentence_rule:\n",
    "        split_word_rule = split_word_rule_ability(a_word_rule)\n",
    "        split_sentence_rule = split_sentence_rule_ability(a_sentence_rule)\n",
    "        split_set_pair_a_word_rule_and_a_sentence_rule.append((split_word_rule, split_sentence_rule))\n",
    "    return split_set_pair_a_word_rule_and_a_sentence_rule"
   ]
  },
  {
   "cell_type": "code",
   "execution_count": 93,
   "id": "07b886ff-e5d8-4ef5-94ab-c48d3762b92c",
   "metadata": {
    "tags": []
   },
   "outputs": [
    {
     "name": "stdout",
     "output_type": "stream",
     "text": [
      "[(['Q', 'alice', 'ot'], [('S', 'help', 'alice', 'quolia', '0'), 'atotw'])]\n"
     ]
    }
   ],
   "source": [
    "split_set_pair_a_word_rule_and_a_sentence_rule = split_set_pair_a_word_rule_and_a_sentence_rule_process(set_pair_a_word_rule_and_a_sentence_rule)\n",
    "print(split_set_pair_a_word_rule_and_a_sentence_rule)"
   ]
  },
  {
   "cell_type": "code",
   "execution_count": 94,
   "id": "74a68656-72f0-47ec-a1b3-95517bc472f9",
   "metadata": {
    "tags": []
   },
   "outputs": [],
   "source": [
    "# なぜか使われない関数...\n",
    "\n",
    "def detect_word_sem_in_sentence_sem_and_index_ability(word_rule_for_replace1, sentence_rule_for_replace1):\n",
    "    sem_in_word_rule_for_replace1 = word_rule_for_replace1[1]\n",
    "    sem_in_sentence_rule_for_replace1 = sentence_rule_for_replace1[0]\n",
    "    \n",
    "    if sem_in_word_rule_for_replace1 in sem_in_sentence_rule_for_replace1:\n",
    "        index_at_sem_in_sentence_rule_for_replace1 = sem_in_sentence_rule_for_replace1.index(sem_in_word_rule_for_replace1)\n",
    "        return word_rule_for_replace1, sentence_rule_for_replace1, [1, 0, index_at_sem_in_sentence_rule_for_replace1]\n",
    "    else:\n",
    "        return []"
   ]
  },
  {
   "cell_type": "code",
   "execution_count": 95,
   "id": "2516a37a-693c-49dc-b283-d6a193e5faa0",
   "metadata": {
    "tags": []
   },
   "outputs": [],
   "source": [
    "# なぜか使われない関数...\n",
    "\n",
    "def detect_and_split_word_form_in_sentence_form_and_index_ability(word_sem_in_sentence_sem_and_index):\n",
    "    form_in_word_rule_for_replace1 = word_sem_in_sentence_sem_and_index[0][2]\n",
    "    form_in_sentence_rule_for_replace1 = word_sem_in_sentence_sem_and_index[1][1]\n",
    "    \n",
    "    if form_in_word_rule_for_replace1 in form_in_sentence_rule_for_replace1 and form_in_word_rule_for_replace1 != form_in_sentence_rule_for_replace1:\n",
    "        start_index_at_form_in_sentence_rule_for_replace1 = form_in_sentence_rule_for_replace1.index(form_in_word_rule_for_replace1)\n",
    "        end_index_at_form_in_sentence_rule_for_replace1 = start_index_at_form_in_sentence_rule_for_replace1 + len(form_in_word_rule_for_replace1)\n",
    "        \n",
    "        before_match = form_in_sentence_rule_for_replace1[:start_index_at_form_in_sentence_rule_for_replace1]\n",
    "        match = form_in_sentence_rule_for_replace1[start_index_at_form_in_sentence_rule_for_replace1:end_index_at_form_in_sentence_rule_for_replace1]\n",
    "        after_match = form_in_sentence_rule_for_replace1[end_index_at_form_in_sentence_rule_for_replace1:]\n",
    "        \n",
    "        split_form_in_sentence_rule_for_replace1 = [part for part in (before_match, match, after_match) if part]\n",
    "        \n",
    "        match_index_at_sentence_rule = split_form_in_sentence_rule_for_replace1.index(match)\n",
    "\n",
    "        split_form_sentence_rule_for_replace1 = (word_sem_in_sentence_sem_and_index[1][0], split_form_in_sentence_rule_for_replace1, match_index_at_sentence_rule)\n",
    "        \n",
    "        return split_form_sentence_rule_for_replace1\n",
    "    else:\n",
    "        return []"
   ]
  },
  {
   "cell_type": "code",
   "execution_count": 96,
   "id": "760f8abe-1bb9-4ef0-8edd-b088dc2655fb",
   "metadata": {
    "tags": []
   },
   "outputs": [],
   "source": [
    "def can_replace_condition_ability(word_rule_for_replace1, sentence_rule_for_replace1):\n",
    "    sem_in_word_rule_for_replace1 = word_rule_for_replace1[1]\n",
    "    sem_in_sentence_rule_for_replace1 = sentence_rule_for_replace1[0]\n",
    "    \n",
    "    if sem_in_word_rule_for_replace1 in sem_in_sentence_rule_for_replace1:\n",
    "        index_at_sem_in_sentence_rule_for_replace1 = sem_in_sentence_rule_for_replace1.index(sem_in_word_rule_for_replace1)\n",
    "        \n",
    "        form_in_word_rule_for_replace1 = word_rule_for_replace1[2]\n",
    "        form_in_sentence_rule_for_replace1 = sentence_rule_for_replace1[1]\n",
    "        \n",
    "        if form_in_word_rule_for_replace1 in form_in_sentence_rule_for_replace1 and form_in_word_rule_for_replace1 != form_in_sentence_rule_for_replace1:\n",
    "            start_index_at_form_in_sentence_rule_for_replace1 = form_in_sentence_rule_for_replace1.index(form_in_word_rule_for_replace1)\n",
    "            end_index_at_form_in_sentence_rule_for_replace1 = start_index_at_form_in_sentence_rule_for_replace1 + len(form_in_word_rule_for_replace1)\n",
    "            \n",
    "            before_match = form_in_sentence_rule_for_replace1[:start_index_at_form_in_sentence_rule_for_replace1]\n",
    "            match = form_in_sentence_rule_for_replace1[start_index_at_form_in_sentence_rule_for_replace1:end_index_at_form_in_sentence_rule_for_replace1]\n",
    "            after_match = form_in_sentence_rule_for_replace1[end_index_at_form_in_sentence_rule_for_replace1:]\n",
    "            \n",
    "            split_form_in_sentence_rule_for_replace1 = [part for part in (before_match, match, after_match) if part]\n",
    "            \n",
    "            match_index_at_sentence_rule = split_form_in_sentence_rule_for_replace1.index(match)\n",
    "\n",
    "            split_form_sentence_rule_for_replace1 = (word_rule_for_replace1, split_form_in_sentence_rule_for_replace1, match_index_at_sentence_rule)\n",
    "            \n",
    "            split_form_sentence_rule_for_replace1 = (sem_in_sentence_rule_for_replace1, split_form_in_sentence_rule_for_replace1)\n",
    "            return word_rule_for_replace1, split_form_sentence_rule_for_replace1, [1, 0, index_at_sem_in_sentence_rule_for_replace1], [match_index_at_sentence_rule]\n",
    "        else:\n",
    "            return []\n",
    "    else:\n",
    "        return []"
   ]
  },
  {
   "cell_type": "code",
   "execution_count": 97,
   "id": "1ee23ba9-b3ca-4c0e-9022-2db46aa8bf35",
   "metadata": {
    "tags": []
   },
   "outputs": [],
   "source": [
    "def can_replace_pairs_process(split_set_pair_a_word_rule_and_a_sentence_rule):\n",
    "    can_replace_pairs = []\n",
    "    \n",
    "    for i in split_set_pair_a_word_rule_and_a_sentence_rule:\n",
    "        word_rule_for_replace1 = i[0]\n",
    "        sentence_rule_for_replace1 = i[1]\n",
    "        a_can_replace_pair = can_replace_condition_ability(word_rule_for_replace1, sentence_rule_for_replace1)\n",
    "        \n",
    "        if a_can_replace_pair is not None:\n",
    "            can_replace_pairs.append(a_can_replace_pair)\n",
    "            \n",
    "    can_replace_pairs_list = [pair for pair in can_replace_pairs if pair]\n",
    "    \n",
    "    return can_replace_pairs_list"
   ]
  },
  {
   "cell_type": "code",
   "execution_count": 98,
   "id": "5d62a74f-14d2-4a5c-85ca-bc8100711629",
   "metadata": {
    "tags": []
   },
   "outputs": [
    {
     "name": "stdout",
     "output_type": "stream",
     "text": [
      "[(['Q', 'alice', 'ot'], (('S', 'help', 'alice', 'quolia', '0'), ['at', 'ot', 'w']), [1, 0, 2], [1])]\n"
     ]
    }
   ],
   "source": [
    "can_replace_pairs_list = can_replace_pairs_process(split_set_pair_a_word_rule_and_a_sentence_rule)\n",
    "print(can_replace_pairs_list)"
   ]
  },
  {
   "cell_type": "code",
   "execution_count": 99,
   "id": "894e3577-f271-438d-a02b-ebc30c5cf8e7",
   "metadata": {
    "tags": []
   },
   "outputs": [],
   "source": [
    "def replace_ability(a_can_replace_pair):\n",
    "    word_rule_for_replace = a_can_replace_pair[0]\n",
    "\n",
    "    category_label_in_word_rule = a_can_replace_pair[0][0]\n",
    "\n",
    "    sim_index_list_at_sem_express = a_can_replace_pair[2]\n",
    "\n",
    "    sim_index_at_sem_express = sim_index_list_at_sem_express[2]\n",
    "\n",
    "    sim_sem_in_sentence_rule_can_replace = a_can_replace_pair[1][0][sim_index_at_sem_express]\n",
    "\n",
    "    sim_form_in_sentence_rule_can_replace = a_can_replace_pair[1][1][a_can_replace_pair[3][0]]\n",
    "\n",
    "    index_to_var = {1: 'p', 2: 'x', 3: 'y'}  # インデックスと変項の対応関係を辞書で定義\n",
    "    variable_at_sem_express_in_sentence_rule = index_to_var.get(sim_index_at_sem_express, 'x')\n",
    "\n",
    "    replaced_split_sem_express_in_sentence_rule = list(a_can_replace_pair[1][0])\n",
    "    replaced_split_sem_express_in_sentence_rule[sim_index_at_sem_express] = variable_at_sem_express_in_sentence_rule\n",
    "\n",
    "    replaced_split_form_express_in_sentence_rule = list(a_can_replace_pair[1][1])\n",
    "    sim_index_at_sem_express_in_sentence_rule = a_can_replace_pair[2][2]\n",
    "    replaced_split_form_express_in_sentence_rule[a_can_replace_pair[3][0]] = f\"{category_label_in_word_rule}/{variable_at_sem_express_in_sentence_rule}\"\n",
    "    replaced_form_express_in_sentence_rule = ''.join(replaced_split_form_express_in_sentence_rule)\n",
    "    # replaced_form_express_in_sentence_rule = ''.join(replaced_split_form_express_in_sentence_rule).replace(\" \", \"\")  # スペースを削除\n",
    "\n",
    "\n",
    "    replaced_sem_express_in_sentence_rule = (\n",
    "        f\"{replaced_split_sem_express_in_sentence_rule[0]}/_{replaced_split_sem_express_in_sentence_rule[1]}(_{replaced_split_sem_express_in_sentence_rule[2]},_{replaced_split_sem_express_in_sentence_rule[3]})/{replaced_split_sem_express_in_sentence_rule[4]}\"\n",
    "    )\n",
    "\n",
    "    replaced_sentence_rule_uncompleted = (replaced_sem_express_in_sentence_rule, \"->\", replaced_form_express_in_sentence_rule)\n",
    "    replaced_sentence_rule = ''.join(replaced_sentence_rule_uncompleted)\n",
    "    # replaced_sentence_rule = ''.join(replaced_sentence_rule_uncompleted).replace(\" \", \"\")  # スペースを削除\n",
    "\n",
    "\n",
    "    replaced_word_rule = f\"{word_rule_for_replace[0]}/_{word_rule_for_replace[1]}->{word_rule_for_replace[2]}\"\n",
    "    # replaced_word_rule = f\"{word_rule_for_replace[0]}/_{word_rule_for_replace[1]} -> {word_rule_for_replace[2]}\".replace(\" \", \"\")  # スペースを削除\n",
    "\n",
    "\n",
    "    return replaced_sentence_rule, replaced_word_rule\n",
    "\n",
    "def replace_process(can_replace_pairs):\n",
    "    replaced_rules = []\n",
    "\n",
    "    for a_can_replace_pair in can_replace_pairs:\n",
    "        replaced_sentence_rule, replaced_word_rule = replace_ability(a_can_replace_pair)\n",
    "        replaced_rules.append(replaced_sentence_rule)\n",
    "        replaced_rules.append(replaced_word_rule)\n",
    "\n",
    "    return replaced_rules"
   ]
  },
  {
   "cell_type": "code",
   "execution_count": 100,
   "id": "3dec3bbf-3236-4d6b-85a9-4c76f12095e3",
   "metadata": {
    "tags": []
   },
   "outputs": [
    {
     "name": "stdout",
     "output_type": "stream",
     "text": [
      "['S/_help(_x,_quolia)/0->atQ/xw', 'Q/_alice->ot']\n"
     ]
    }
   ],
   "source": [
    "replaced_rules = replace_process(can_replace_pairs_list)\n",
    "print(replaced_rules)"
   ]
  },
  {
   "cell_type": "code",
   "execution_count": 101,
   "id": "8481a10d-d33b-4ced-a8ec-41153ad42e9e",
   "metadata": {
    "tags": []
   },
   "outputs": [],
   "source": [
    "def format_replace_pair(replace_pair):\n",
    "    # replace_pair の2番目の要素を言語知識の形式に変換\n",
    "    sem_structure, form_strings = replace_pair  # 正しくアンパック\n",
    "    # sem_structure を適切なフォーマットに変換\n",
    "    sem_part = f\"S/_{sem_structure[1]}(_{sem_structure[2]},_{sem_structure[3]})/{sem_structure[4]}\"\n",
    "    # form_strings を結合して形式部分を作成\n",
    "    form_part = \"\".join(form_strings)\n",
    "    return f\"{sem_part}->{form_part}\""
   ]
  },
  {
   "cell_type": "code",
   "execution_count": 102,
   "id": "f3efba86-9e65-40be-94fd-16ad059c8fb0",
   "metadata": {},
   "outputs": [],
   "source": [
    "# 新しい学習アルゴリズムのメイン関数\n",
    "def replace_learning(rule_set):\n",
    "    only_word_rule_set, only_sentence_rule_set = split_word_rule_set_and_sentence_rule_set(rule_set)\n",
    "    set_index_pair_a_word_rule_and_a_sentence_rule = pairing_index_a_word_rule_and_a_sentence_rule(only_word_rule_set, only_sentence_rule_set)\n",
    "\n",
    "    # セットのペアリングと分割処理を実行\n",
    "    set_pair_a_word_rule_and_a_sentence_rule = set_pair_a_word_rule_and_a_sentence_rule_process(only_word_rule_set, only_sentence_rule_set, set_index_pair_a_word_rule_and_a_sentence_rule)\n",
    "    split_set_pair_a_word_rule_and_a_sentence_rule = split_set_pair_a_word_rule_and_a_sentence_rule_process(set_pair_a_word_rule_and_a_sentence_rule)\n",
    "\n",
    "    # 置換可能なペアの検出\n",
    "    can_replace_pairs = can_replace_pairs_process(split_set_pair_a_word_rule_and_a_sentence_rule)\n",
    "\n",
    "    # ルールの置換\n",
    "    replaced_rules = replace_process(can_replace_pairs)\n",
    "\n",
    "    # ルールセット全体をコピーして保持\n",
    "    remaining_rules = rule_set[:]\n",
    "\n",
    "    # can_replace_pairs の2番目の要素を replacable_pairs に格納\n",
    "    replacable_pairs = []\n",
    "    for replace_pair in can_replace_pairs:\n",
    "        formatted_rule = format_replace_pair(replace_pair[1])  # 2番目の要素を渡す\n",
    "        replacable_pairs.append(formatted_rule)\n",
    "\n",
    "    # replacable_pairs を used_rules として扱い、remaining_rules から削除\n",
    "    used_rules = []\n",
    "    for rule in replacable_pairs:\n",
    "        # 元の rule_set にあるかを確認し、あれば used_rules に追加\n",
    "        for original_rule in rule_set:\n",
    "            if rule in original_rule:\n",
    "                used_rules.append(original_rule)\n",
    "\n",
    "    # 未使用のルールを特定\n",
    "    unapplied_rules = [rule for rule in remaining_rules if rule not in used_rules]\n",
    "\n",
    "    # 統合されたルールと適用できなかったルールを結合\n",
    "    replaced_rules.extend(unapplied_rules)\n",
    "\n",
    "    # 順序を保持しながら重複を削除\n",
    "    replaced_rules = list(dict.fromkeys(replaced_rules))\n",
    "\n",
    "    return replaced_rules"
   ]
  },
  {
   "cell_type": "code",
   "execution_count": 103,
   "id": "9051d34d-d147-4266-ab22-077c0ec615ae",
   "metadata": {
    "tags": []
   },
   "outputs": [
    {
     "name": "stdout",
     "output_type": "stream",
     "text": [
      "['S/_help(_x,_quolia)/0->atQ/xw', 'Q/_alice->ot']\n"
     ]
    }
   ],
   "source": [
    "replaced_rules = replace_learning(rule_set)\n",
    "print(replaced_rules)"
   ]
  }
 ],
 "metadata": {
  "kernelspec": {
   "display_name": "Python 3 (ipykernel)",
   "language": "python",
   "name": "python3"
  },
  "language_info": {
   "codemirror_mode": {
    "name": "ipython",
    "version": 3
   },
   "file_extension": ".py",
   "mimetype": "text/x-python",
   "name": "python",
   "nbconvert_exporter": "python",
   "pygments_lexer": "ipython3",
   "version": "3.11.5"
  }
 },
 "nbformat": 4,
 "nbformat_minor": 5
}
