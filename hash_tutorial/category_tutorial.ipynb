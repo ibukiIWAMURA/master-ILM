{
 "cells": [
  {
   "cell_type": "code",
   "execution_count": 3,
   "id": "bd3e5267-d8ab-4bc6-988d-12318c83d572",
   "metadata": {
    "tags": []
   },
   "outputs": [],
   "source": [
    "# 使用例\n",
    "rule_set = [\n",
    "    \"B/_john->abc\", # 1\n",
    "    \"W/_john->abc\", # 1\n",
    "    \"C/_jane->xyz\", # 2\n",
    "    \"D/_john->qwe\", # 1\n",
    "    \"S/_judge(_eve,_quolia)/0->wrde\", \n",
    "    \"S/_judge(_eve,_carol)/0->abcdef\",\n",
    "    \"S/_judge(_eve,_alice)/0->wrcdef\",\n",
    "    \"S/_judge(_eve,_bob)/0->abwrf\",\n",
    "    \"N/_jane->xyz\", # 2\n",
    "    \"S/_judge(_eve,_david)/0->abcwr\",\n",
    "    \"S/_follow(_eve,_david)/0->arr\", \n",
    "    \"S/_follow(_alice,_david)/0->gftrr\",\n",
    "    # \"S/_follow(_x,_david)/0->gN/xrr\",\n",
    "    \"S/_follow(_alice,_y)/0->gfN/yr\"\n",
    "]\n",
    "\n"
   ]
  },
  {
   "cell_type": "code",
   "execution_count": 5,
   "id": "20f581d0-fa51-4d95-aeb4-675caa2cc662",
   "metadata": {
    "tags": []
   },
   "outputs": [],
   "source": [
    "import random\n",
    "\n",
    "def parse_rule(rule):\n",
    "    parts = rule.split('->')\n",
    "    semantic_structure = parts[0].strip()  # 前半部分を意味構造 -> .strip()は空白部分を削除\n",
    "    form = parts[1].strip()  # 後半部分を意味構造\n",
    "    return semantic_structure, form\n",
    "\n",
    "def clustering_rule_set(rule_set):\n",
    "    word_rule_set = []\n",
    "    sentence_rule_set = []\n",
    "    \n",
    "    for rule in rule_set:\n",
    "        semantic_structure, _ = parse_rule(rule)\n",
    "        # S/で始まるルールを sentence_rule_set に分類\n",
    "        if semantic_structure.startswith(\"S/\"):\n",
    "            sentence_rule_set.append(rule)\n",
    "        else:\n",
    "            word_rule_set.append(rule)\n",
    "    \n",
    "    return word_rule_set, sentence_rule_set"
   ]
  },
  {
   "cell_type": "code",
   "execution_count": 15,
   "id": "0afd70d9-0d8a-4534-b6a4-9fa3fff8974b",
   "metadata": {
    "tags": []
   },
   "outputs": [
    {
     "name": "stdout",
     "output_type": "stream",
     "text": [
      "['B/_john -> abc', 'W/_john -> abc', 'C/_jane -> xyz', 'D/_john -> qwe', 'N/_jane -> xyz']\n",
      "['S/_judge(_eve,_quolia)/0 -> wrde', 'S/_judge(_eve,_carol)/0 -> abcdef', 'S/_judge(_eve,_alice)/0 -> wrcdef', 'S/_judge(_eve,_bob)/0 -> abwrf', 'S/_judge(_eve,_david)/0 -> abcwr', 'S/_follow(_eve,_david)/0 -> arr', 'S/_follow(_alice,_david)/0 -> gftrr', 'S/_follow(_alice,_y)/0 -> gfN/yr']\n"
     ]
    }
   ],
   "source": [
    "word_rule_set, sentence_rule_set = clustering_rule_set(rule_set)\n",
    "print(word_rule_set)\n",
    "print(sentence_rule_set)"
   ]
  },
  {
   "cell_type": "code",
   "execution_count": 6,
   "id": "7a0fc4e2-cec1-44a3-b6dc-2df81dfe5354",
   "metadata": {
    "tags": []
   },
   "outputs": [],
   "source": [
    "def word_rule_pair(word_rule_set):\n",
    "    pairs = []\n",
    "    n = len(word_rule_set)\n",
    "    for i in range(n):\n",
    "        for j in range(i + 1, n):\n",
    "            pairs.append((word_rule_set[i], word_rule_set[j]))\n",
    "    return pairs"
   ]
  },
  {
   "cell_type": "code",
   "execution_count": 16,
   "id": "1a9ad53b-b01d-4036-8b37-aea08d31e5f8",
   "metadata": {
    "tags": []
   },
   "outputs": [
    {
     "name": "stdout",
     "output_type": "stream",
     "text": [
      "[('B/_john -> abc', 'W/_john -> abc'), ('B/_john -> abc', 'C/_jane -> xyz'), ('B/_john -> abc', 'D/_john -> qwe'), ('B/_john -> abc', 'N/_jane -> xyz'), ('W/_john -> abc', 'C/_jane -> xyz'), ('W/_john -> abc', 'D/_john -> qwe'), ('W/_john -> abc', 'N/_jane -> xyz'), ('C/_jane -> xyz', 'D/_john -> qwe'), ('C/_jane -> xyz', 'N/_jane -> xyz'), ('D/_john -> qwe', 'N/_jane -> xyz')]\n"
     ]
    }
   ],
   "source": [
    "pairs = word_rule_pair(word_rule_set)\n",
    "print(pairs)"
   ]
  },
  {
   "cell_type": "code",
   "execution_count": 17,
   "id": "5b1749a4-df52-4b22-bac9-866159187c7a",
   "metadata": {
    "tags": []
   },
   "outputs": [],
   "source": [
    "def detect_word_sim_diff_ability(a_word_rule1, a_word_rule2):\n",
    "    split_rule1 = split_word_rule(a_word_rule1)\n",
    "    split_rule2 = split_word_rule(a_word_rule2)\n",
    "    return (split_rule1[0] != split_rule2[0]) and (split_rule1[1:] == split_rule2[1:])\n",
    "\n",
    "def can_category_integration_pair_set(pairs):\n",
    "    integrable_pairs = set()\n",
    "    for pair in pairs:\n",
    "        if detect_word_sim_diff_ability(pair[0], pair[1]):\n",
    "            integrable_pairs.add(pair)\n",
    "    return integrable_pairs"
   ]
  },
  {
   "cell_type": "code",
   "execution_count": 27,
   "id": "3e3b7c8c-3bd5-4e14-995d-510b565506b1",
   "metadata": {
    "tags": []
   },
   "outputs": [
    {
     "name": "stdout",
     "output_type": "stream",
     "text": [
      "{('B/_john -> abc', 'W/_john -> abc'), ('C/_jane -> xyz', 'N/_jane -> xyz')}\n"
     ]
    }
   ],
   "source": [
    "integrable_pairs = can_category_integration_pair_set(pairs)\n",
    "print(integrable_pairs)"
   ]
  },
  {
   "cell_type": "code",
   "execution_count": 28,
   "id": "2c1dbda2-b07c-4653-a598-f37c5404e682",
   "metadata": {
    "tags": []
   },
   "outputs": [],
   "source": [
    "def split_word_rule(word_rule):\n",
    "    category_label, rest = word_rule.split('/')\n",
    "    meaning, form = rest.split('->')\n",
    "    return [category_label, meaning, form]\n",
    "\n",
    "def category_integration_ability(split_word_rule1, split_word_rule2):\n",
    "    unified_category_label = random.choice([split_word_rule1[0], split_word_rule2[0]])\n",
    "    # 選ばれなかった方のカテゴリーラベルを取得\n",
    "    if unified_category_label == split_word_rule1[0]:\n",
    "        not_chosen_category_label = split_word_rule2[0]\n",
    "    else:\n",
    "        not_chosen_category_label = split_word_rule1[0]\n",
    "    \n",
    "    return f\"{unified_category_label}/{split_word_rule1[1]}->{split_word_rule1[2]}\", unified_category_label, not_chosen_category_label"
   ]
  },
  {
   "cell_type": "code",
   "execution_count": 29,
   "id": "edeee71f-0712-49a4-b0c8-ef5eeab027fa",
   "metadata": {
    "tags": []
   },
   "outputs": [],
   "source": [
    "def update_word_rule_set(word_rule_set, integrable_pairs):\n",
    "    integration_rules = []\n",
    "    \n",
    "    for pair in integrable_pairs:\n",
    "        # 各ペアのルールを分割してカテゴリーラベルを統合\n",
    "        split_rule1 = split_word_rule(pair[0])\n",
    "        split_rule2 = split_word_rule(pair[1])\n",
    "        unified_rule, chosen_label, not_chosen_label = category_integration_ability(split_rule1, split_rule2)\n",
    "        \n",
    "        # 統合されたルールをリストに追加\n",
    "        integration_rules.append(unified_rule)\n",
    "        \n",
    "        # 選択されなかったカテゴリーラベルを選択されたものに置換\n",
    "        word_rule_set = replace_category_labels(word_rule_set, chosen_label, not_chosen_label)\n",
    "    \n",
    "    return word_rule_set, integration_rules"
   ]
  },
  {
   "cell_type": "code",
   "execution_count": 30,
   "id": "643fa6fe-5169-44e2-af2e-65da87d5a9c1",
   "metadata": {
    "tags": []
   },
   "outputs": [
    {
     "name": "stdout",
     "output_type": "stream",
     "text": [
      "['D/_john -> qwe', 'B/_john -> abc', 'C/_jane -> xyz']\n",
      "['B/_john -> abc', 'C/_jane -> xyz']\n"
     ]
    }
   ],
   "source": [
    "word_rule_set, integration_rules = update_word_rule_set(word_rule_set, integrable_pairs)\n",
    "print(word_rule_set)\n",
    "print(integration_rules)"
   ]
  },
  {
   "cell_type": "code",
   "execution_count": 31,
   "id": "274fa6f0-6e25-492e-af68-d737f753b85d",
   "metadata": {},
   "outputs": [],
   "source": [
    "def category_integration_learning(rule_set):\n",
    "    # 1. 単語ルールと文生成ルールを分類\n",
    "    word_rule_set, sentence_rules = clustering_rule_set(rule_set)\n",
    "    \n",
    "    # 2. 単語ルールペアを生成\n",
    "    pairs = word_rule_pair(word_rule_set)\n",
    "    \n",
    "    # 3. 統合可能なルールペアを検出\n",
    "    integrable_pairs = can_category_integration_pair_set(pairs)\n",
    "    \n",
    "    # 4. 統合可能なルールペアから統合ルールを生成・更新\n",
    "    updated_word_rule_set, integration_rules = update_word_rule_set(word_rule_set, integrable_pairs)\n",
    "    \n",
    "    # 5. 単語ルールと文生成ルールを統合して最終結果を返す\n",
    "    integrated_rules = updated_word_rule_set + sentence_rules\n",
    "    \n",
    "    return integrated_rules"
   ]
  },
  {
   "cell_type": "code",
   "execution_count": 32,
   "id": "0885270c-434a-4992-987f-5d0054b9324e",
   "metadata": {
    "tags": []
   },
   "outputs": [
    {
     "name": "stdout",
     "output_type": "stream",
     "text": [
      "['N/_jane -> xyz', 'W/_john -> abc', 'D/_john -> qwe', 'S/_judge(_eve,_quolia)/0 -> wrde', 'S/_judge(_eve,_carol)/0 -> abcdef', 'S/_judge(_eve,_alice)/0 -> wrcdef', 'S/_judge(_eve,_bob)/0 -> abwrf', 'S/_judge(_eve,_david)/0 -> abcwr', 'S/_follow(_eve,_david)/0 -> arr', 'S/_follow(_alice,_david)/0 -> gftrr', 'S/_follow(_alice,_y)/0 -> gfN/yr']\n"
     ]
    }
   ],
   "source": [
    "integrated_rules = category_integration_learning(rule_set)\n",
    "print(integrated_rules)"
   ]
  },
  {
   "cell_type": "code",
   "execution_count": null,
   "id": "a5599c9d-2f47-4080-a4db-5d3db659dc90",
   "metadata": {},
   "outputs": [],
   "source": []
  }
 ],
 "metadata": {
  "kernelspec": {
   "display_name": "Python 3 (ipykernel)",
   "language": "python",
   "name": "python3"
  },
  "language_info": {
   "codemirror_mode": {
    "name": "ipython",
    "version": 3
   },
   "file_extension": ".py",
   "mimetype": "text/x-python",
   "name": "python",
   "nbconvert_exporter": "python",
   "pygments_lexer": "ipython3",
   "version": "3.11.5"
  }
 },
 "nbformat": 4,
 "nbformat_minor": 5
}
