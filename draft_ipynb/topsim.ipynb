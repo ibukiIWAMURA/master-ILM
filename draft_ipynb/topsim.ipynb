{
 "cells": [
  {
   "cell_type": "markdown",
   "id": "db501356-d5cf-4397-97f5-cbfa0bee9f2f",
   "metadata": {},
   "source": [
    "意味の類似度：Hamming Distance<br>\n",
    "形式の類似度：Levenstein Distance"
   ]
  },
  {
   "cell_type": "code",
   "execution_count": 1,
   "id": "0584b39f-2d25-4325-936b-79d2ede3b135",
   "metadata": {
    "tags": []
   },
   "outputs": [
    {
     "name": "stdout",
     "output_type": "stream",
     "text": [
      "Requirement already satisfied: python-Levenshtein in /Users/iwamurairifuki/anaconda3/lib/python3.11/site-packages (0.26.0)\n",
      "Requirement already satisfied: Levenshtein==0.26.0 in /Users/iwamurairifuki/anaconda3/lib/python3.11/site-packages (from python-Levenshtein) (0.26.0)\n",
      "Requirement already satisfied: rapidfuzz<4.0.0,>=3.9.0 in /Users/iwamurairifuki/anaconda3/lib/python3.11/site-packages (from Levenshtein==0.26.0->python-Levenshtein) (3.9.7)\n",
      "Note: you may need to restart the kernel to use updated packages.\n"
     ]
    }
   ],
   "source": [
    "pip install python-Levenshtein"
   ]
  },
  {
   "cell_type": "code",
   "execution_count": 2,
   "id": "5c9c97f5-deaf-41fe-8d17-d198229786bb",
   "metadata": {
    "tags": []
   },
   "outputs": [],
   "source": [
    "import math\n",
    "from itertools import combinations\n",
    "from Levenshtein import distance as levenshtein_distance\n",
    "import re"
   ]
  },
  {
   "cell_type": "markdown",
   "id": "7abad982-018d-4b38-808e-641400e042e6",
   "metadata": {
    "tags": []
   },
   "source": [
    "意味の類似度：Hamming Distanceの計算"
   ]
  },
  {
   "cell_type": "code",
   "execution_count": 3,
   "id": "45c56896-d6d0-4ca7-bed3-aa4ada97d5f6",
   "metadata": {
    "tags": []
   },
   "outputs": [],
   "source": [
    "rule_set = ['S/_kick(_carol,_bob)/0->ablpcd', 'S/_kick(_carol,_ibu)/0->abkocd',\n",
    "           'S/_follow(_kalin,_mckirby)/0->stu', 'S/_admire(_kalin,_mckirby)/0->jkl']"
   ]
  },
  {
   "cell_type": "code",
   "execution_count": 90,
   "id": "098dc0e7-04f3-4e3d-8860-a4867b76200b",
   "metadata": {
    "tags": []
   },
   "outputs": [],
   "source": [
    "# 意味がバラバラ\n",
    "rule_set = ['S/_a(_carol,_bob)/0->abc', 'S/_k(_rl,_bu)/0->def',\n",
    "           'S/_follow(_kalin,_mcrby)/0->ghi', 'S/_admire(_kan,_kirby)/0->jkl']"
   ]
  },
  {
   "cell_type": "code",
   "execution_count": 50,
   "id": "2446d0f5-c074-4d83-a8c8-489cc9cad965",
   "metadata": {
    "tags": []
   },
   "outputs": [],
   "source": [
    "rule_set = ['S/_kick(_carol,_bob)/0->ablpcd', 'S/_kick(_carol,_ibu)/0->abkocd',\n",
    "           'S/_follow(_carol,_bob)/0->ablpcd', 'S/_kick(_ibu,_bob)/0->ablpcd']"
   ]
  },
  {
   "cell_type": "code",
   "execution_count": 82,
   "id": "b753caf4-bc7a-4329-a126-5fa0166d5974",
   "metadata": {
    "tags": []
   },
   "outputs": [],
   "source": [
    "rule_set = ['S/_admire(_david,_carol)/0->fwftincab', 'S/_meet(_carol,_david)/0->qbk', 'S/_know(_bob,_eve)/0->rvgll', 'S/_like(_eve,_carol)/0->cjihbbjwv', 'S/_know(_david,_bob)/0->autlk', 'S/_meet(_eve,_david)/0->ieircfbg', 'S/_meet(_eve,_alice)/0->bkhcj', 'S/_kick(_alice,_carol)/0->koiivdgjt', 'S/_meet(_david,_eve)/0->bwnktztq', 'S/_like(_carol,_eve)/0->qmwb', 'S/_admire(_alice,_carol)/0->eul', 'S/_admire(_alice,_bob)/0->jbzobwtv', 'S/_meet(_david,_bob)/0->fndbak', 'S/_like(_alice,_bob)/0->vhgbog', 'S/_meet(_david,_alice)/0->crjid', 'S/_know(_carol,_bob)/0->iduful', 'S/_admire(_carol,_david)/0->vmuhvwq', 'S/_admire(_david,_bob)/0->hciq', 'S/_meet(_alice,_eve)/0->kdjecf', 'S/_kick(_carol,_david)/0->ulko', 'S/_like(_david,_carol)/0->dldtkeb', 'S/_admire(_david,_eve)/0->culob', 'S/_kick(_eve,_david)/0->jfaizcku', 'S/_kick(_bob,_david)/0->uznubut', 'S/_kick(_bob,_eve)/0->blcnl', 'S/_admire(_carol,_alice)/0->okoum', 'S/_know(_alice,_eve)/0->nhl', 'S/_like(_eve,_david)/0->enhnr', 'S/_admire(_eve,_alice)/0->wfcnu', 'S/_admire(_alice,_david)/0->dqd', 'S/_like(_eve,_alice)/0->nccf', 'S/_kick(_david,_eve)/0->tecafdh', 'S/_kick(_eve,_bob)/0->jcfmgejdf', 'S/_know(_bob,_david)/0->abagnnur', 'S/_kick(_alice,_eve)/0->ecql', 'S/_kick(_carol,_eve)/0->gib', 'S/_admire(_alice,_eve)/0->obhimme', 'S/_admire(_carol,_bob)/0->udoa', 'S/_like(_bob,_david)/0->wtfbm', 'S/_admire(_eve,_carol)/0->jan', 'S/_meet(_bob,_alice)/0->jwtte', 'S/_know(_david,_carol)/0->ggafelht', 'S/_know(_eve,_alice)/0->aww', 'S/_like(_carol,_david)/0->vvuqaq', 'S/_kick(_carol,_alice)/0->beeactrjb', 'S/_meet(_eve,_carol)/0->vwed', 'S/_admire(_david,_alice)/0->ojk', 'S/_know(_eve,_david)/0->rkhzivjc', 'S/_meet(_eve,_bob)/0->udv', 'S/_meet(_carol,_eve)/0->wcwfbndu']\n"
   ]
  },
  {
   "cell_type": "code",
   "execution_count": 81,
   "id": "2ce5725b-c8fa-4a23-923e-e0880d7544d1",
   "metadata": {
    "tags": []
   },
   "outputs": [],
   "source": [
    "def parse_rule(rule):\n",
    "    parts = rule.split('->')\n",
    "    semantic_structure = parts[0].strip()  # 前半部分を意味構造 -> .strip()は空白部分を削除\n",
    "    form = parts[1].strip()  # 後半部分を意味構造\n",
    "    return semantic_structure, form\n",
    "def set_semantics(rule_set):\n",
    "    semantic_set = []\n",
    "    for a_rule in rule_set:\n",
    "        a_semantics = parse_rule(a_rule)[0]\n",
    "        semantic_set.append(a_semantics)\n",
    "    return semantic_set\n",
    "def split_semantics_ability(semantic_elements):\n",
    "    # 意味表現を単語単位で分割\n",
    "    return re.findall(r'_[a-zA-Z0-9]+|\\(\\w+\\)|[A-Z]+|/[0-9]', semantic_elements)\n",
    "def split_semantics_process(semantic_set):\n",
    "    split_semantic_elements_set = []\n",
    "    for a_semantic_element in semantic_set:\n",
    "        one_of_semantic_set = split_semantics_ability(a_semantic_element)\n",
    "        split_semantic_elements_set.append(one_of_semantic_set)\n",
    "    return split_semantic_elements_set"
   ]
  },
  {
   "cell_type": "code",
   "execution_count": 53,
   "id": "81707622-114f-4cd5-aca3-d97a8c82f896",
   "metadata": {
    "tags": []
   },
   "outputs": [
    {
     "name": "stdout",
     "output_type": "stream",
     "text": [
      "[['S', '_kick', '_carol', '_bob', '/0'], ['S', '_kick', '_carol', '_ibu', '/0'], ['S', '_follow', '_carol', '_bob', '/0'], ['S', '_kick', '_ibu', '_bob', '/0']]\n"
     ]
    }
   ],
   "source": [
    "semantic_set = set_semantics(rule_set)\n",
    "split_semantic_elements_set = split_semantics_process(semantic_set)\n",
    "print(split_semantic_elements_set)"
   ]
  },
  {
   "cell_type": "markdown",
   "id": "cc21101e-1c91-4141-b6a8-c56af94daa3d",
   "metadata": {},
   "source": [
    "意味表現の平均"
   ]
  },
  {
   "cell_type": "code",
   "execution_count": 54,
   "id": "3e6e15a3-69a8-4f6e-a245-7b69fb322709",
   "metadata": {
    "tags": []
   },
   "outputs": [],
   "source": [
    "def count_hamming_distance_ability(sem1, sem2):\n",
    "    \"\"\"Hamming Distanceの計算\"\"\"\n",
    "    count = 0\n",
    "    for i in range(len(sem1)):\n",
    "        if sem1[i] != sem2[i]:\n",
    "            count += 1\n",
    "    return count\n",
    "\n",
    "def count_hamming_distance_process(split_semantic_elements_set):\n",
    "    total_hamming_distance = 0  # 合計を初期化\n",
    "    num_elements = len(split_semantic_elements_set)\n",
    "    \n",
    "    # 全てのペアを作成\n",
    "    pairs = combinations(split_semantic_elements_set, 2)\n",
    "    \n",
    "    # 各ペアに対して Hamming Distance を計算して合計を求める\n",
    "    pair_count = 0\n",
    "    for sem1, sem2 in pairs:\n",
    "        distance = count_hamming_distance_ability(sem1, sem2)\n",
    "        # print(f\"'{sem1}' と '{sem2}' の Hamming distance は {distance}\")\n",
    "        total_hamming_distance += distance  # 合計に加算\n",
    "        pair_count += 1\n",
    "    # print(pair_count)\n",
    "    average_hamming_distance = total_hamming_distance / pair_count\n",
    "    \n",
    "    return average_hamming_distance"
   ]
  },
  {
   "cell_type": "code",
   "execution_count": 55,
   "id": "9e9fe200-1e5b-4c1f-91a5-ea2efe0a1a97",
   "metadata": {
    "tags": []
   },
   "outputs": [
    {
     "name": "stdout",
     "output_type": "stream",
     "text": [
      "1.5\n"
     ]
    }
   ],
   "source": [
    "average_hamming_distance = count_hamming_distance_process(split_semantic_elements_set)\n",
    "print(average_hamming_distance)"
   ]
  },
  {
   "cell_type": "markdown",
   "id": "ce309451-f9de-4bb5-aa9f-985b0053ca17",
   "metadata": {},
   "source": [
    "意味の分散"
   ]
  },
  {
   "cell_type": "code",
   "execution_count": 56,
   "id": "2f3e1ff7-01be-484f-bc75-d8c222dc0263",
   "metadata": {
    "tags": []
   },
   "outputs": [],
   "source": [
    "def variance_of_hamming_distance_process(split_semantic_elements_set):\n",
    "    # 平均 Hamming Distance とペアの総数を取得\n",
    "    average_hamming_distance = count_hamming_distance_process(split_semantic_elements_set)\n",
    "    \n",
    "    total_variance = 0  # 分散の総和\n",
    "    pair_count = 0  # ペア数のカウント\n",
    "    pairs = combinations(split_semantic_elements_set, 2)\n",
    "    \n",
    "    # 各ペアに対して (distance - average_hamming_distance)² を計算\n",
    "    for sem1, sem2 in pairs:\n",
    "        distance = count_hamming_distance_ability(sem1, sem2)\n",
    "        variance = (distance - average_hamming_distance) ** 2\n",
    "        total_variance += variance\n",
    "        pair_count += 1  # ペア数をカウント\n",
    "    variance_of_hamming_distance = total_variance / pair_count\n",
    "    \n",
    "    return variance_of_hamming_distance"
   ]
  },
  {
   "cell_type": "code",
   "execution_count": 57,
   "id": "1d43cbbd-433d-4d24-a48f-b9aa50cf0e5a",
   "metadata": {
    "tags": []
   },
   "outputs": [
    {
     "name": "stdout",
     "output_type": "stream",
     "text": [
      "0.25\n"
     ]
    }
   ],
   "source": [
    "variance_of_hamming_distance = variance_of_hamming_distance_process(split_semantic_elements_set)\n",
    "print(variance_of_hamming_distance)"
   ]
  },
  {
   "cell_type": "markdown",
   "id": "6e54e7c3-2f44-465e-a1f5-9eb243d4f05b",
   "metadata": {},
   "source": [
    "意味の標準偏差"
   ]
  },
  {
   "cell_type": "code",
   "execution_count": 58,
   "id": "e8e768c2-0177-4bf6-9e9b-37fd0112d689",
   "metadata": {
    "tags": []
   },
   "outputs": [],
   "source": [
    "def standard_deviation_of_hamming_distance_process(variance_of_hamming_distance):\n",
    "    return math.sqrt(variance_of_hamming_distance)"
   ]
  },
  {
   "cell_type": "code",
   "execution_count": 59,
   "id": "bef96380-8f71-47b1-a398-b3164a68e4ea",
   "metadata": {
    "tags": []
   },
   "outputs": [
    {
     "name": "stdout",
     "output_type": "stream",
     "text": [
      "0.5\n"
     ]
    }
   ],
   "source": [
    "standard_deviation_of_hamming_distance = standard_deviation_of_hamming_distance_process(variance_of_hamming_distance)\n",
    "print(standard_deviation_of_hamming_distance)"
   ]
  },
  {
   "cell_type": "markdown",
   "id": "734278e1-bc19-4aea-8d6f-35767fab74ed",
   "metadata": {},
   "source": [
    "形式の類似度：Levenshtein Distance"
   ]
  },
  {
   "cell_type": "code",
   "execution_count": 60,
   "id": "fed1a574-8741-436c-8a0f-f4721cdad73e",
   "metadata": {
    "tags": []
   },
   "outputs": [],
   "source": [
    "def parse_rule(rule):\n",
    "    parts = rule.split('->')\n",
    "    semantic_structure = parts[0].strip()  # 前半部分を意味構造 -> .strip()は空白部分を削除\n",
    "    form = parts[1].strip()  # 後半部分を意味構造\n",
    "    return semantic_structure, form\n",
    "def set_form(rule_set):\n",
    "    form_set = []\n",
    "    for a_rule in rule_set:\n",
    "        a_form = parse_rule(a_rule)[1]\n",
    "        form_set.append(a_form)\n",
    "    return form_set"
   ]
  },
  {
   "cell_type": "code",
   "execution_count": 61,
   "id": "1e85e10c-8d2e-4dd6-b0e4-6f7573002769",
   "metadata": {
    "tags": []
   },
   "outputs": [
    {
     "name": "stdout",
     "output_type": "stream",
     "text": [
      "['ablpcd', 'abkocd', 'ablpcd', 'ablpcd']\n"
     ]
    }
   ],
   "source": [
    "form_set = set_form(rule_set)\n",
    "print(form_set)"
   ]
  },
  {
   "cell_type": "markdown",
   "id": "70f7e718-8817-4375-809f-17252f101399",
   "metadata": {},
   "source": [
    "編集距離は，DP （動的計画法）で解ける  :   理解していない"
   ]
  },
  {
   "cell_type": "code",
   "execution_count": 63,
   "id": "315cf3ee-207c-44fc-bdd5-d58c1ff6b32a",
   "metadata": {
    "tags": []
   },
   "outputs": [],
   "source": [
    "def levenshtein_distance_ability(form1, form2):\n",
    "    \"\"\"\n",
    "    2つの文字列 form1 と form2 の Levenshtein distance（編集距離）を計算する関数\n",
    "    \"\"\"\n",
    "    inf = float(\"inf\")\n",
    "\n",
    "    # 文字列の長さに、最初の空白文字の長さを加算する\n",
    "    s_l = len(form1) + 1\n",
    "    t_l = len(form2) + 1\n",
    "\n",
    "    # テーブルを作成\n",
    "    dp = [[inf] * s_l for _ in range(t_l)]\n",
    "\n",
    "    # 1行目を埋める\n",
    "    dp[0] = [i for i in range(s_l)]\n",
    "\n",
    "    # 1列目を埋める\n",
    "    for j in range(t_l):\n",
    "        dp[j][0] = j\n",
    "\n",
    "    # 2行2列目以降を埋める\n",
    "    for i in range(1, t_l):\n",
    "        for j in range(1, s_l):\n",
    "            left = dp[i][j - 1] + 1\n",
    "            upp = dp[i - 1][j] + 1\n",
    "            if form1[j - 1] == form2[i - 1]:\n",
    "                left_upp = dp[i - 1][j - 1]\n",
    "            else:\n",
    "                left_upp = dp[i - 1][j - 1] + 1\n",
    "\n",
    "            dp[i][j] = min(left, upp, left_upp)\n",
    "\n",
    "    # 編集距離を返す\n",
    "    return dp[t_l - 1][s_l - 1]"
   ]
  },
  {
   "cell_type": "code",
   "execution_count": 64,
   "id": "48b3d99a-9b6c-4ff5-ae88-b3b3a9d65c6d",
   "metadata": {
    "tags": []
   },
   "outputs": [],
   "source": [
    "def levenshtein_distance_process(form_set):\n",
    "    \"\"\"\n",
    "    form_set内の全てのペアに対して Levenshtein distance を計算する関数\n",
    "    \"\"\"\n",
    "    total_distance = 0\n",
    "    pair_count = 0\n",
    "    \n",
    "    # 全てのペアを生成\n",
    "    pairs = combinations(form_set, 2)\n",
    "\n",
    "    # 各ペアに対して levenshtein_distance_ability を計算\n",
    "    for form1, form2 in pairs:\n",
    "        distance = levenshtein_distance_ability(form1, form2)\n",
    "        # print(f\"'{form1}' と '{form2}' の Levenshtein distance は {distance}\")\n",
    "        total_distance += distance\n",
    "        pair_count += 1\n",
    "\n",
    "    # 平均編集距離を計算\n",
    "    average_levenshtein_distance = total_distance / pair_count if pair_count > 0 else 0\n",
    "\n",
    "    return total_distance, average_levenshtein_distance, pair_count"
   ]
  },
  {
   "cell_type": "markdown",
   "id": "554e2fda-137c-4988-b2ad-4fe9147d43d1",
   "metadata": {},
   "source": [
    "形式の平均"
   ]
  },
  {
   "cell_type": "code",
   "execution_count": 65,
   "id": "fb416bb2-37dd-4555-95d5-eba7251d0614",
   "metadata": {
    "tags": []
   },
   "outputs": [
    {
     "name": "stdout",
     "output_type": "stream",
     "text": [
      "Levenshtein distance の総和: 6\n",
      "Levenshtein distance の平均: 1.0\n",
      "ペアの総数: 6\n"
     ]
    }
   ],
   "source": [
    "# Levenshtein distance の全体の合計、平均、およびペア数を取得\n",
    "total_distance, average_levenshtein_distance, pair_count = levenshtein_distance_process(form_set)\n",
    "print(f\"Levenshtein distance の総和: {total_distance}\")\n",
    "print(f\"Levenshtein distance の平均: {average_levenshtein_distance}\")\n",
    "print(f\"ペアの総数: {pair_count}\")"
   ]
  },
  {
   "cell_type": "markdown",
   "id": "f6623be4-acd0-4c63-83d6-34e8c4e94d9c",
   "metadata": {},
   "source": [
    "形式の分散"
   ]
  },
  {
   "cell_type": "code",
   "execution_count": 66,
   "id": "b92ac492-95e2-4382-a291-e048c1786395",
   "metadata": {
    "tags": []
   },
   "outputs": [],
   "source": [
    "def variance_of_levenshtein_distance_process(form_set):\n",
    "    pairs = list(combinations(form_set, 2))\n",
    "    # 平均を計算\n",
    "    total_distance, average_distance, pair_count = levenshtein_distance_process(form_set)\n",
    "\n",
    "    # 分散の計算\n",
    "    total_variance = 0\n",
    "    for form1, form2 in pairs:\n",
    "        distance = levenshtein_distance_ability(form1, form2)\n",
    "        variance = (distance - average_distance) ** 2\n",
    "        total_variance += variance\n",
    "\n",
    "    # 分散を返す\n",
    "    variance_of_levenshtein_distance = total_variance / pair_count if pair_count > 0 else 0\n",
    "    \n",
    "    return variance_of_levenshtein_distance, average_distance, pair_count"
   ]
  },
  {
   "cell_type": "code",
   "execution_count": 67,
   "id": "ee23ef51-7dbc-4e3e-991a-fd9aa68c8a26",
   "metadata": {
    "tags": []
   },
   "outputs": [
    {
     "name": "stdout",
     "output_type": "stream",
     "text": [
      "1.0\n"
     ]
    }
   ],
   "source": [
    "variance_of_levenshtein_distance, average_distance, pair_count = variance_of_levenshtein_distance_process(form_set)\n",
    "print(variance_of_levenshtein_distance)"
   ]
  },
  {
   "cell_type": "markdown",
   "id": "8d9674ed-c71b-4361-8bbd-bb4b3dc20575",
   "metadata": {
    "tags": []
   },
   "source": [
    "形式の標準偏差"
   ]
  },
  {
   "cell_type": "code",
   "execution_count": 68,
   "id": "dcfe0054-8320-424e-89fb-cc4b4b9fb333",
   "metadata": {
    "tags": []
   },
   "outputs": [],
   "source": [
    "def standard_deviation_of_levenshtein_distance_process(variance_of_levenshtein_distance):\n",
    "    return math.sqrt(variance_of_levenshtein_distance)"
   ]
  },
  {
   "cell_type": "code",
   "execution_count": 69,
   "id": "dcfd06dd-8d52-4bf8-8871-4f692a4274d0",
   "metadata": {
    "tags": []
   },
   "outputs": [
    {
     "name": "stdout",
     "output_type": "stream",
     "text": [
      "1.0\n"
     ]
    }
   ],
   "source": [
    "standard_deviation_of_levenshtein_distance = standard_deviation_of_levenshtein_distance_process(variance_of_levenshtein_distance)\n",
    "print(standard_deviation_of_levenshtein_distance)"
   ]
  },
  {
   "cell_type": "markdown",
   "id": "b784d793-98f5-4803-a63d-62879e10e061",
   "metadata": {},
   "source": [
    "相関係数の計算"
   ]
  },
  {
   "cell_type": "code",
   "execution_count": 76,
   "id": "dbc25bde-cc3f-440e-8a62-a569fdd70197",
   "metadata": {
    "tags": []
   },
   "outputs": [],
   "source": [
    "def correlation_coefficient(\n",
    "    split_semantic_elements_set, \n",
    "    form_set,\n",
    "    average_hamming_distance,\n",
    "    average_levenshtein_distance,\n",
    "    standard_deviation_of_hamming_distance,\n",
    "    standard_deviation_of_levenshtein_distance\n",
    "):\n",
    "    \n",
    "    total_covariance = 0  # 共分散の総和\n",
    "    pairs_sem = combinations(split_semantic_elements_set, 2)\n",
    "    pairs_form = combinations(form_set, 2)\n",
    "\n",
    "    for (sem1, sem2), (form1, form2) in zip(pairs_sem, pairs_form):\n",
    "        hamming_distance = count_hamming_distance_ability(sem1, sem2)\n",
    "        levenshtein_distance = levenshtein_distance_ability(form1, form2)\n",
    "        \n",
    "        # (意味類似度 - 平均) と (形式類似度 - 平均) を掛け合わせて共分散の合計に加算\n",
    "        total_covariance += (hamming_distance - average_hamming_distance) * (levenshtein_distance - average_levenshtein_distance)\n",
    "    \n",
    "    # 共分散をペア数で割る（共分散の平均を求める）\n",
    "    covariance = total_covariance / pair_count if pair_count > 0 else 0\n",
    "\n",
    "    # 相関係数 = 共分散 / (標準偏差_意味 * 標準偏差_形式)\n",
    "    if standard_deviation_of_hamming_distance > 0 and standard_deviation_of_levenshtein_distance > 0:\n",
    "        TopSim_value = covariance / (standard_deviation_of_hamming_distance * standard_deviation_of_levenshtein_distance)\n",
    "    else:\n",
    "        TopSim_value = 0  # 標準偏差が 0 の場合は相関係数を 0 とする\n",
    "\n",
    "    return TopSim_value"
   ]
  },
  {
   "cell_type": "code",
   "execution_count": 77,
   "id": "aed90e9a-2a1b-4326-aee1-82c5f3118f90",
   "metadata": {
    "tags": []
   },
   "outputs": [
    {
     "name": "stdout",
     "output_type": "stream",
     "text": [
      "0.3333333333333333\n"
     ]
    }
   ],
   "source": [
    "TopSim_value = correlation_coefficient(\n",
    "    split_semantic_elements_set, \n",
    "    form_set,\n",
    "    average_hamming_distance,\n",
    "    average_levenshtein_distance,\n",
    "    standard_deviation_of_hamming_distance,\n",
    "    standard_deviation_of_levenshtein_distance\n",
    ")\n",
    "print(TopSim_value)"
   ]
  },
  {
   "cell_type": "code",
   "execution_count": 88,
   "id": "9a4055af-7afc-4613-9703-298b04bb9566",
   "metadata": {
    "tags": []
   },
   "outputs": [],
   "source": [
    "def TopSim(rule_set):\n",
    "    \n",
    "    semantic_set = set_semantics(rule_set)\n",
    "    split_semantic_elements_set = split_semantics_process(semantic_set)\n",
    "    average_hamming_distance = count_hamming_distance_process(split_semantic_elements_set)\n",
    "    variance_of_hamming_distance = variance_of_hamming_distance_process(split_semantic_elements_set)\n",
    "    standard_deviation_of_hamming_distance = standard_deviation_of_hamming_distance_process(variance_of_hamming_distance)\n",
    "    form_set = set_form(rule_set)\n",
    "    total_distance, average_levenshtein_distance, pair_count = levenshtein_distance_process(form_set)\n",
    "    variance_of_levenshtein_distance, average_distance, pair_count = variance_of_levenshtein_distance_process(form_set)\n",
    "    standard_deviation_of_levenshtein_distance = standard_deviation_of_levenshtein_distance_process(variance_of_levenshtein_distance)\n",
    "    TopSim = correlation_coefficient(\n",
    "        split_semantic_elements_set, \n",
    "        form_set,\n",
    "        average_hamming_distance,\n",
    "        average_levenshtein_distance,\n",
    "        standard_deviation_of_hamming_distance,\n",
    "        standard_deviation_of_levenshtein_distance\n",
    "        )\n",
    "    return TopSim_value"
   ]
  },
  {
   "cell_type": "code",
   "execution_count": 89,
   "id": "7c2abb13-9708-432e-9ff8-d53a07f00836",
   "metadata": {
    "tags": []
   },
   "outputs": [
    {
     "name": "stdout",
     "output_type": "stream",
     "text": [
      "0.3333333333333333\n"
     ]
    }
   ],
   "source": [
    "TopSim_value = TopSim(rule_set)\n",
    "print(TopSim_value)"
   ]
  },
  {
   "cell_type": "code",
   "execution_count": 90,
   "id": "45e2f75e-63c1-41e0-9a93-52a525329d8e",
   "metadata": {
    "tags": []
   },
   "outputs": [
    {
     "name": "stdout",
     "output_type": "stream",
     "text": [
      "0.3333333333333333\n"
     ]
    }
   ],
   "source": [
    "rule_set = ['S/_kick(_carol,_bob)/0->ablpcd', 'S/_kick(_carol,_ibu)/0->abkocd',\n",
    "           'S/_follow(_kalin,_mckirby)/0->stu', 'S/_admire(_kalin,_mckirby)/0->jkl']\n",
    "\n",
    "\n",
    "# rule_set = ['S/_admire(_david,_carol)/0->fwftincab', 'S/_meet(_carol,_david)/0->qbk', 'S/_know(_bob,_eve)/0->rvgll', 'S/_like(_eve,_carol)/0->cjihbbjwv', 'S/_know(_david,_bob)/0->autlk', 'S/_meet(_eve,_david)/0->ieircfbg', 'S/_meet(_eve,_alice)/0->bkhcj', 'S/_kick(_alice,_carol)/0->koiivdgjt', 'S/_meet(_david,_eve)/0->bwnktztq', 'S/_like(_carol,_eve)/0->qmwb', 'S/_admire(_alice,_carol)/0->eul', 'S/_admire(_alice,_bob)/0->jbzobwtv', 'S/_meet(_david,_bob)/0->fndbak', 'S/_like(_alice,_bob)/0->vhgbog', 'S/_meet(_david,_alice)/0->crjid', 'S/_know(_carol,_bob)/0->iduful', 'S/_admire(_carol,_david)/0->vmuhvwq', 'S/_admire(_david,_bob)/0->hciq', 'S/_meet(_alice,_eve)/0->kdjecf', 'S/_kick(_carol,_david)/0->ulko', 'S/_like(_david,_carol)/0->dldtkeb', 'S/_admire(_david,_eve)/0->culob', 'S/_kick(_eve,_david)/0->jfaizcku', 'S/_kick(_bob,_david)/0->uznubut', 'S/_kick(_bob,_eve)/0->blcnl', 'S/_admire(_carol,_alice)/0->okoum', 'S/_know(_alice,_eve)/0->nhl', 'S/_like(_eve,_david)/0->enhnr', 'S/_admire(_eve,_alice)/0->wfcnu', 'S/_admire(_alice,_david)/0->dqd', 'S/_like(_eve,_alice)/0->nccf', 'S/_kick(_david,_eve)/0->tecafdh', 'S/_kick(_eve,_bob)/0->jcfmgejdf', 'S/_know(_bob,_david)/0->abagnnur', 'S/_kick(_alice,_eve)/0->ecql', 'S/_kick(_carol,_eve)/0->gib', 'S/_admire(_alice,_eve)/0->obhimme', 'S/_admire(_carol,_bob)/0->udoa', 'S/_like(_bob,_david)/0->wtfbm', 'S/_admire(_eve,_carol)/0->jan', 'S/_meet(_bob,_alice)/0->jwtte', 'S/_know(_david,_carol)/0->ggafelht', 'S/_know(_eve,_alice)/0->aww', 'S/_like(_carol,_david)/0->vvuqaq', 'S/_kick(_carol,_alice)/0->beeactrjb', 'S/_meet(_eve,_carol)/0->vwed', 'S/_admire(_david,_alice)/0->ojk', 'S/_know(_eve,_david)/0->rkhzivjc', 'S/_meet(_eve,_bob)/0->udv', 'S/_meet(_carol,_eve)/0->wcwfbndu']\n",
    "\n",
    "\n",
    "TopSim_value = TopSim(rule_set)\n",
    "print(TopSim_value)"
   ]
  }
 ],
 "metadata": {
  "kernelspec": {
   "display_name": "Python 3 (ipykernel)",
   "language": "python",
   "name": "python3"
  },
  "language_info": {
   "codemirror_mode": {
    "name": "ipython",
    "version": 3
   },
   "file_extension": ".py",
   "mimetype": "text/x-python",
   "name": "python",
   "nbconvert_exporter": "python",
   "pygments_lexer": "ipython3",
   "version": "3.11.5"
  }
 },
 "nbformat": 4,
 "nbformat_minor": 5
}
