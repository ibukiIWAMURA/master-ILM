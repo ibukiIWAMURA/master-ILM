{
 "cells": [
  {
   "cell_type": "markdown",
   "id": "7e108655-92c9-428a-9d9b-440c8b1e998e",
   "metadata": {},
   "source": [
    "category_integrationを作成"
   ]
  },
  {
   "cell_type": "markdown",
   "id": "6d55a56f-6857-4ee2-a9a8-889266bf0bef",
   "metadata": {},
   "source": [
    "N/john -> abc, B/john -> abc"
   ]
  },
  {
   "cell_type": "markdown",
   "id": "540b50b8-7c8f-4bb6-99b2-607952aa67ec",
   "metadata": {},
   "source": [
    "ラベルだけ異なるが， 意味要素と形式要素が共通する場合， どちらかのラベルを採用する：単語ルールだけに適用する"
   ]
  },
  {
   "cell_type": "code",
   "execution_count": 1,
   "id": "2e690c4e-9d77-4f68-9358-41b258cf8fff",
   "metadata": {
    "tags": []
   },
   "outputs": [],
   "source": [
    "# 使用例\n",
    "rule_set = [\n",
    "    \"B/_john -> abc\",\n",
    "    \"W/_john -> abc\",\n",
    "    \"C/_jane -> xyz\",\n",
    "    \"D/_john -> qwe\",\n",
    "    \"S/_judge(_eve,_quolia)/0 -> wrde\", \n",
    "    \"S/_judge(_eve,_carol)/0 -> abcdef\",\n",
    "    \"S/_judge(_eve,_alice)/0 -> wrcdef\",\n",
    "    \"S/_judge(_eve,_bob)/0 -> abwrf\",\n",
    "    \"N/_jane -> xyz\",\n",
    "    \"S/_judge(_eve,_david)/0 -> abcwr\",\n",
    "    \"S/_follow(_eve,_david)/0 -> arr\", \n",
    "    \"S/_follow(_alice,_david)/0 -> gftrr\",\n",
    "    # \"S/_follow(_x,_david)/0 -> gN/xrr\",\n",
    "    \"S/_follow(_alice,_y)/0 -> gfN/yr\"\n",
    "]"
   ]
  },
  {
   "cell_type": "code",
   "execution_count": 70,
   "id": "dd962ddd-f493-4252-80ca-3c28f4fbaa19",
   "metadata": {
    "tags": []
   },
   "outputs": [],
   "source": [
    "# 使用例\n",
    "rule_set = [\n",
    "    \"B/_john -> abc\",\n",
    "]"
   ]
  },
  {
   "cell_type": "code",
   "execution_count": 38,
   "id": "d2692d43-5f84-44cf-a686-191ac2d7909c",
   "metadata": {
    "tags": []
   },
   "outputs": [],
   "source": [
    "rule_set = [\"Π/_quolia->b\", \"A/_quolia->b\"]"
   ]
  },
  {
   "cell_type": "code",
   "execution_count": 2,
   "id": "5100b030-eeea-4bab-a2e1-81de52539d3a",
   "metadata": {
    "tags": []
   },
   "outputs": [],
   "source": [
    "import random\n",
    "import re\n",
    "\n",
    "def set_only_word_rule(rule_set):\n",
    "    # 英語とギリシャ文字の大文字に対応する正規表現パターン\n",
    "    pattern = re.compile(r'^[A-ZΑ-Ω]/\\w+->\\w+$')\n",
    "    \n",
    "    # 単語ルールを抽出\n",
    "    only_word_rule_set = [rule for rule in rule_set if pattern.match(rule)]\n",
    "    \n",
    "    return only_word_rule_set\n",
    "\n",
    "def word_rule_pair(only_word_rule_set):\n",
    "    pairs = []\n",
    "    n = len(only_word_rule_set)\n",
    "    for i in range(n):\n",
    "        for j in range(i + 1, n):\n",
    "            pairs.append((only_word_rule_set[i], only_word_rule_set[j]))\n",
    "    return pairs\n",
    "\n",
    "def split_word_rule(word_rule):\n",
    "    # \"/\" と \" -> \"で文字列を分割\n",
    "    category_label, rest = word_rule.split('/')\n",
    "    meaning, form = rest.split('->')\n",
    "    return [category_label, meaning, form]\n",
    "\n",
    "def detect_word_sim_diff_ability(a_word_rule1, a_word_rule2):\n",
    "    split_rule1 = split_word_rule(a_word_rule1)\n",
    "    split_rule2 = split_word_rule(a_word_rule2)\n",
    "    \n",
    "    # カテゴリーラベルが異なり、意味表現と形式表現が共通か確認\n",
    "    return (split_rule1[0] != split_rule2[0]) and (split_rule1[1:] == split_rule2[1:])\n",
    "\n",
    "def can_category_integration_pair_set(pairs):\n",
    "    integrable_pairs = set()\n",
    "    for pair in pairs:\n",
    "        if detect_word_sim_diff_ability(pair[0], pair[1]):\n",
    "            integrable_pairs.add(pair)\n",
    "    return integrable_pairs\n",
    "\n",
    "def category_integration_ability(split_word_rule1, split_word_rule2):\n",
    "    # カテゴリーラベルをランダムに選択\n",
    "    unified_category_label = random.choice([split_word_rule1[0], split_word_rule2[0]])\n",
    "    return f\"{unified_category_label}/{split_word_rule1[1]}->{split_word_rule1[2]}\"\n",
    "\n",
    "def category_integration_process(integrable_pairs):\n",
    "    integrated_rules = []\n",
    "    for pair in integrable_pairs:\n",
    "        split_rule1 = split_word_rule(pair[0])\n",
    "        split_rule2 = split_word_rule(pair[1])\n",
    "        # 統一したルールを生成\n",
    "        unified_rule = category_integration_ability(split_word_rule1=split_rule1, split_word_rule2=split_rule2)\n",
    "        integrated_rules.append(unified_rule)\n",
    "    return integrated_rules\n",
    "\n",
    "# すべてのルールのペアを生成\n",
    "only_word_rule_set = set_only_word_rule(rule_set)\n",
    "pairs = word_rule_pair(only_word_rule_set)\n",
    "\n",
    "# 学習アルゴリズムに適用可能なペアを取得\n",
    "integrable_pairs = can_category_integration_pair_set(pairs)\n",
    "\n",
    "# ルールセット全体をコピーして保持\n",
    "remaining_rules = rule_set[:]\n",
    "\n",
    "# integrable_pairs に含まれるルールを used_rules に追加\n",
    "used_rules = []\n",
    "for rule_pair in integrable_pairs:\n",
    "    for rule in rule_pair:\n",
    "        # 元の rule_set にあるかを確認し、あれば used_rules に追加\n",
    "        for original_rule in rule_set:\n",
    "            if rule in original_rule:\n",
    "                used_rules.append(original_rule)\n",
    "\n",
    "# 未使用のルールを特定\n",
    "unapplied_rules = [rule for rule in remaining_rules if rule not in used_rules]\n",
    "\n",
    "# 学習アルゴリズムによる統合を実行\n",
    "integrated_rules = category_integration_process(integrable_pairs)\n",
    "\n",
    "# 統合されたルールと適用できなかったルールを結合\n",
    "integrated_rules.extend(unapplied_rules)"
   ]
  },
  {
   "cell_type": "code",
   "execution_count": 3,
   "id": "572b0156-f189-46a8-8009-c23c73caea3e",
   "metadata": {
    "tags": []
   },
   "outputs": [
    {
     "name": "stdout",
     "output_type": "stream",
     "text": [
      "['B/_john -> abc', 'W/_john -> abc', 'C/_jane -> xyz', 'D/_john -> qwe', 'S/_judge(_eve,_quolia)/0 -> wrde', 'S/_judge(_eve,_carol)/0 -> abcdef', 'S/_judge(_eve,_alice)/0 -> wrcdef', 'S/_judge(_eve,_bob)/0 -> abwrf', 'N/_jane -> xyz', 'S/_judge(_eve,_david)/0 -> abcwr', 'S/_follow(_eve,_david)/0 -> arr', 'S/_follow(_alice,_david)/0 -> gftrr', 'S/_follow(_alice,_y)/0 -> gfN/yr']\n"
     ]
    }
   ],
   "source": [
    "# 結果を表示\n",
    "print(integrated_rules)"
   ]
  }
 ],
 "metadata": {
  "kernelspec": {
   "display_name": "Python 3 (ipykernel)",
   "language": "python",
   "name": "python3"
  },
  "language_info": {
   "codemirror_mode": {
    "name": "ipython",
    "version": 3
   },
   "file_extension": ".py",
   "mimetype": "text/x-python",
   "name": "python",
   "nbconvert_exporter": "python",
   "pygments_lexer": "ipython3",
   "version": "3.11.5"
  }
 },
 "nbformat": 4,
 "nbformat_minor": 5
}
