{
 "cells": [
  {
   "cell_type": "code",
   "execution_count": null,
   "id": "a4ca83b0-ee3e-4da6-b095-9caf44d6703f",
   "metadata": {},
   "outputs": [],
   "source": [
    "### 推論成功確率を0.1, 0.5, 0.9にする"
   ]
  },
  {
   "cell_type": "code",
   "execution_count": 1,
   "id": "bb89b200-0b03-4dcc-889b-d3db00ef578f",
   "metadata": {
    "tags": []
   },
   "outputs": [
    {
     "name": "stdout",
     "output_type": "stream",
     "text": [
      "ANOVA Results for TopSim_CV0: F-statistic=2.082, p-value=1.265e-01\n",
      "帰無仮説は否定されない（有意水準: α=0.05）\n",
      "\n",
      "ANOVA Results for TopSim_CV1: F-statistic=1.017, p-value=3.630e-01\n",
      "帰無仮説は否定されない（有意水準: α=0.05）\n",
      "\n",
      "ANOVA Results for Normalized_TopSim_CV0: F-statistic=1.012, p-value=3.647e-01\n",
      "帰無仮説は否定されない（有意水準: α=0.05）\n",
      "\n",
      "ANOVA Results for Normalized_TopSim_CV1: F-statistic=1.161, p-value=3.146e-01\n",
      "帰無仮説は否定されない（有意水準: α=0.05）\n",
      "\n",
      "ANOVA Results for Ibuki_1_TopSim_CV0: F-statistic=0.788, p-value=4.555e-01\n",
      "帰無仮説は否定されない（有意水準: α=0.05）\n",
      "\n",
      "ANOVA Results for Ibuki_1_TopSim_CV1: F-statistic=0.831, p-value=4.365e-01\n",
      "帰無仮説は否定されない（有意水準: α=0.05）\n",
      "\n",
      "ANOVA Results for Ibuki_2_TopSim: F-statistic=3.182, p-value=4.293e-02\n",
      "帰無仮説は否定される（有意水準: α=0.05）\n",
      "\n",
      "ANOVA Results for Ibuki_3_TopSim: F-statistic=3.230, p-value=4.097e-02\n",
      "帰無仮説は否定される（有意水準: α=0.05）\n",
      "\n",
      "ANOVA Results for Ibuki_4_TopSim_Variances: F-statistic=9.685, p-value=8.423e-05\n",
      "帰無仮説は否定される（有意水準: α=0.05）\n",
      "\n",
      "ANOVA Results for Ibuki_4_TopSim_Averages: F-statistic=42.628, p-value=5.305e-17\n",
      "帰無仮説は否定される（有意水準: α=0.05）\n",
      "\n",
      "ANOVA Results for Ibuki_5_TopSim_Variances: F-statistic=1.218, p-value=2.973e-01\n",
      "帰無仮説は否定されない（有意水準: α=0.05）\n",
      "\n",
      "ANOVA Results for Ibuki_5_TopSim_Averages: F-statistic=53.437, p-value=1.503e-20\n",
      "帰無仮説は否定される（有意水準: α=0.05）\n",
      "\n",
      "グラフを保存しました: out/graphs/TopSim_CV0_boxplot.png\n",
      "グラフを保存しました: out/graphs/TopSim_CV1_boxplot.png\n",
      "グラフを保存しました: out/graphs/Normalized_TopSim_CV0_boxplot.png\n",
      "グラフを保存しました: out/graphs/Normalized_TopSim_CV1_boxplot.png\n",
      "グラフを保存しました: out/graphs/Ibuki_1_TopSim_CV0_boxplot.png\n",
      "グラフを保存しました: out/graphs/Ibuki_1_TopSim_CV1_boxplot.png\n",
      "グラフを保存しました: out/graphs/Ibuki_2_TopSim_boxplot.png\n",
      "グラフを保存しました: out/graphs/Ibuki_3_TopSim_boxplot.png\n",
      "グラフを保存しました: out/graphs/Ibuki_4_TopSim_Variances_boxplot.png\n",
      "グラフを保存しました: out/graphs/Ibuki_4_TopSim_Averages_boxplot.png\n",
      "グラフを保存しました: out/graphs/Ibuki_5_TopSim_Variances_boxplot.png\n",
      "グラフを保存しました: out/graphs/Ibuki_5_TopSim_Averages_boxplot.png\n"
     ]
    },
    {
     "data": {
      "text/plain": [
       "<Figure size 800x600 with 0 Axes>"
      ]
     },
     "metadata": {},
     "output_type": "display_data"
    },
    {
     "data": {
      "text/plain": [
       "<Figure size 800x600 with 0 Axes>"
      ]
     },
     "metadata": {},
     "output_type": "display_data"
    },
    {
     "data": {
      "text/plain": [
       "<Figure size 800x600 with 0 Axes>"
      ]
     },
     "metadata": {},
     "output_type": "display_data"
    },
    {
     "data": {
      "text/plain": [
       "<Figure size 800x600 with 0 Axes>"
      ]
     },
     "metadata": {},
     "output_type": "display_data"
    },
    {
     "data": {
      "text/plain": [
       "<Figure size 800x600 with 0 Axes>"
      ]
     },
     "metadata": {},
     "output_type": "display_data"
    },
    {
     "data": {
      "text/plain": [
       "<Figure size 800x600 with 0 Axes>"
      ]
     },
     "metadata": {},
     "output_type": "display_data"
    },
    {
     "data": {
      "text/plain": [
       "<Figure size 800x600 with 0 Axes>"
      ]
     },
     "metadata": {},
     "output_type": "display_data"
    },
    {
     "data": {
      "text/plain": [
       "<Figure size 800x600 with 0 Axes>"
      ]
     },
     "metadata": {},
     "output_type": "display_data"
    },
    {
     "data": {
      "text/plain": [
       "<Figure size 800x600 with 0 Axes>"
      ]
     },
     "metadata": {},
     "output_type": "display_data"
    },
    {
     "data": {
      "text/plain": [
       "<Figure size 800x600 with 0 Axes>"
      ]
     },
     "metadata": {},
     "output_type": "display_data"
    },
    {
     "data": {
      "text/plain": [
       "<Figure size 800x600 with 0 Axes>"
      ]
     },
     "metadata": {},
     "output_type": "display_data"
    },
    {
     "data": {
      "text/plain": [
       "<Figure size 800x600 with 0 Axes>"
      ]
     },
     "metadata": {},
     "output_type": "display_data"
    }
   ],
   "source": [
    "import os\n",
    "import json\n",
    "import pandas as pd\n",
    "import numpy as np\n",
    "from scipy.stats import f_oneway\n",
    "import matplotlib.pyplot as plt\n",
    "\n",
    "def load_data_for_analysis(base_folder, target_folders):\n",
    "    \"\"\"\n",
    "    特定のフォルダに保存されたシミュレーションデータを取得。\n",
    "    \"\"\"\n",
    "    data = []\n",
    "    \n",
    "    for folder in target_folders:\n",
    "        folder_path = os.path.join(base_folder, folder)\n",
    "        \n",
    "        if os.path.isdir(folder_path):\n",
    "            for seed_folder in os.listdir(folder_path):\n",
    "                seed_path = os.path.join(folder_path, seed_folder)\n",
    "                json_file = os.path.join(seed_path, \"TopSim_and_Expressivity_Values.json\")\n",
    "                \n",
    "                if os.path.exists(json_file):\n",
    "                    with open(json_file, 'r') as f:\n",
    "                        values = json.load(f)\n",
    "                        values[\"experiment\"] = folder  # 実験フォルダ名\n",
    "                        values[\"seed\"] = seed_folder  # seed値\n",
    "                        data.append(values)\n",
    "    return pd.DataFrame(data)\n",
    "\n",
    "def find_stable_interval(data, threshold=0.8, length=10):\n",
    "    \"\"\"\n",
    "    expressivities_cv0 と expressivities_cv1 が閾値以上の安定した区間を探す。\n",
    "    \"\"\"\n",
    "    stable_intervals = []\n",
    "    for index, row in data.iterrows():\n",
    "        expressivities_cv0 = row[\"Expressivity_CV0\"]\n",
    "        expressivities_cv1 = row[\"Expressivity_CV1\"]\n",
    "        \n",
    "        # 両方が閾値を超えているインデックスを探す\n",
    "        stable = [\n",
    "            i for i in range(len(expressivities_cv0))\n",
    "            if expressivities_cv0[i] >= threshold and expressivities_cv1[i] >= threshold\n",
    "        ]\n",
    "        \n",
    "        # 安定した区間を抽出\n",
    "        for start in range(len(stable) - length + 1):\n",
    "            if all(stable[start + i] == stable[start] + i for i in range(length)):\n",
    "                stable_intervals.append((index, stable[start], stable[start] + length))\n",
    "                break  # 最初の安定区間だけを取得\n",
    "    return stable_intervals\n",
    "\n",
    "def calculate_means(df, stable_intervals, variables):\n",
    "    \"\"\"\n",
    "    安定区間における指定された変数の平均を計算。\n",
    "    \"\"\"\n",
    "    results = []\n",
    "    for index, start, end in stable_intervals:\n",
    "        row = df.iloc[index]\n",
    "        experiment = row[\"experiment\"]\n",
    "        seed = row[\"seed\"]\n",
    "        \n",
    "        means = {var: np.mean(row[var][start:end]) for var in variables}\n",
    "        means.update({\"experiment\": experiment, \"seed\": seed})\n",
    "        results.append(means)\n",
    "    return pd.DataFrame(results)\n",
    "\n",
    "def perform_anova(df, variable, alpha=0.05):\n",
    "    \n",
    "    groups = [group[variable].values for _, group in df.groupby(\"experiment\")]\n",
    "    f_stat, p_value = f_oneway(*groups)\n",
    "    hypothesis_result = \"否定される\" if p_value < alpha else \"否定されない\"\n",
    "    print(f\"ANOVA Results for {variable}: F-statistic={f_stat:.3f}, p-value={p_value:.3e}\")\n",
    "    print(f\"帰無仮説は{hypothesis_result}（有意水準: α={alpha}）\\n\")\n",
    "    \n",
    "def extract_inference_accuracy(folder_name):\n",
    "    \"\"\"\n",
    "    フォルダ名から推論成功確率を抽出し、小数点を復元。\n",
    "    例: \"exp20241213_143425_gen100_infer09_sample24\" -> 0.9\n",
    "    \"\"\"\n",
    "    infer_start = folder_name.find(\"infer\") + len(\"infer\")\n",
    "    infer_value = folder_name[infer_start:infer_start + 2]\n",
    "    return float(infer_value) / 10  # 小数点を復元\n",
    "\n",
    "\n",
    "\n",
    "\n",
    "def main():\n",
    "    # フォルダ設定\n",
    "    base_folder = \"out\"\n",
    "    target_folders = [\n",
    "        \"exp20241214_012549_gen400_infer01_sample24\",\n",
    "        # \"exp20241214_012603_gen400_infer03_sample24\",\n",
    "        \"exp20241214_012605_gen400_infer05_sample24\",\n",
    "        # \"exp20241214_012608_gen400_infer07_sample24\",\n",
    "        \"exp20241214_012610_gen400_infer09_sample24\"\n",
    "    ]\n",
    "    \n",
    "    # データ読み込み\n",
    "    df = load_data_for_analysis(base_folder, target_folders)\n",
    "\n",
    "    \n",
    "    # 推論成功確率を計算して新しい列として追加\n",
    "    df[\"Inference Accuracy\"] = df[\"experiment\"].apply(extract_inference_accuracy)\n",
    "    \n",
    "    # 安定区間を取得\n",
    "    stable_intervals = find_stable_interval(df)\n",
    "    \n",
    "    # 集計対象の変数\n",
    "    variables = [\n",
    "        \"TopSim_CV0\", \"TopSim_CV1\", \"Normalized_TopSim_CV0\",\n",
    "       \"Normalized_TopSim_CV1\", \"Ibuki_1_TopSim_CV0\", \"Ibuki_1_TopSim_CV1\",\n",
    "        \"Ibuki_2_TopSim\", \"Ibuki_3_TopSim\",\n",
    "        \"Ibuki_4_TopSim_Variances\", \"Ibuki_4_TopSim_Averages\",\n",
    "        \"Ibuki_5_TopSim_Variances\", \"Ibuki_5_TopSim_Averages\"\n",
    "    ]\n",
    "    \n",
    "    # 安定区間における平均値を計算\n",
    "    stable_data = calculate_means(df, stable_intervals, variables)\n",
    "    \n",
    "    # 推論成功確率の列を追加\n",
    "    stable_data[\"Inference Accuracy\"] = stable_data[\"experiment\"].apply(extract_inference_accuracy)\n",
    "    \n",
    "    # ANOVA分析を実行\n",
    "    for variable in variables:\n",
    "        perform_anova(stable_data, variable)\n",
    "\n",
    "    # 可視化例\n",
    "    for variable in variables:\n",
    "        plt.figure(figsize=(8, 6))\n",
    "        stable_data.boxplot(column=variable, by=\"Inference Accuracy\")\n",
    "        plt.title(f\"{variable} by Inference Accuracy\")\n",
    "        plt.xlabel(\"Inference Accuracy\")\n",
    "        plt.ylabel(variable)\n",
    "        plt.suptitle(\"\")  # デフォルトのタイトルを削除\n",
    "\n",
    "        # 保存先フォルダを作成\n",
    "        output_folder = os.path.join(base_folder, \"graphs\")\n",
    "        os.makedirs(output_folder, exist_ok=True)\n",
    "\n",
    "        # グラフを保存\n",
    "        output_path = os.path.join(output_folder, f\"{variable}_boxplot.png\")\n",
    "        plt.savefig(output_path)\n",
    "        plt.close()  # 表示を抑止\n",
    "        print(f\"グラフを保存しました: {output_path}\")\n",
    "\n",
    "if __name__ == \"__main__\":\n",
    "    main()"
   ]
  },
  {
   "cell_type": "code",
   "execution_count": null,
   "id": "3cf013d0-e5e1-4664-af4a-c9f8b9e68c69",
   "metadata": {},
   "outputs": [],
   "source": []
  }
 ],
 "metadata": {
  "kernelspec": {
   "display_name": "Python 3 (ipykernel)",
   "language": "python",
   "name": "python3"
  },
  "language_info": {
   "codemirror_mode": {
    "name": "ipython",
    "version": 3
   },
   "file_extension": ".py",
   "mimetype": "text/x-python",
   "name": "python",
   "nbconvert_exporter": "python",
   "pygments_lexer": "ipython3",
   "version": "3.11.5"
  }
 },
 "nbformat": 4,
 "nbformat_minor": 5
}
